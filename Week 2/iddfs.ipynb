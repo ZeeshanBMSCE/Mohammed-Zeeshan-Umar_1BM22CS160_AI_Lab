{
 "cells": [
  {
   "cell_type": "code",
   "execution_count": 1,
   "id": "f31253a5",
   "metadata": {},
   "outputs": [
    {
     "name": "stdout",
     "output_type": "stream",
     "text": [
      "Target 6 found within depth 3.\n"
     ]
    }
   ],
   "source": [
    "# Iterative Deepening Depth-First Search (IDDFS) in Python\n",
    "\n",
    "class Graph:\n",
    "    def __init__(self, vertices):\n",
    "        self.V = vertices  # Number of vertices\n",
    "        self.graph = {i: [] for i in range(vertices)}  # Graph representation\n",
    "    \n",
    "    # Add edge to the graph\n",
    "    def add_edge(self, u, v):\n",
    "        self.graph[u].append(v)\n",
    "\n",
    "    # Depth-Limited Search (DLS)\n",
    "    def dls(self, src, target, limit):\n",
    "        if src == target:\n",
    "            return True\n",
    "        if limit <= 0:\n",
    "            return False\n",
    "\n",
    "        for neighbor in self.graph[src]:\n",
    "            if self.dls(neighbor, target, limit - 1):\n",
    "                return True\n",
    "\n",
    "        return False\n",
    "\n",
    "    # Iterative Deepening Search (IDS)\n",
    "    def iddfs(self, src, target, max_depth):\n",
    "        for depth in range(max_depth):\n",
    "            if self.dls(src, target, depth):\n",
    "                return True\n",
    "        return False\n",
    "\n",
    "\n",
    "# Example Usage\n",
    "g = Graph(7)  # Initialize a graph with 7 nodes\n",
    "\n",
    "# Add edges\n",
    "g.add_edge(0, 1)\n",
    "g.add_edge(0, 2)\n",
    "g.add_edge(1, 3)\n",
    "g.add_edge(1, 4)\n",
    "g.add_edge(2, 5)\n",
    "g.add_edge(2, 6)\n",
    "\n",
    "# Source and target\n",
    "src = 0\n",
    "target = 6\n",
    "max_depth = 3  # Set max depth\n",
    "\n",
    "# Run IDDFS\n",
    "if g.iddfs(src, target, max_depth):\n",
    "    print(f\"Target {target} found within depth {max_depth}.\")\n",
    "else:\n",
    "    print(f\"Target {target} not found within depth {max_depth}.\")"
   ]
  },
  {
   "cell_type": "code",
   "execution_count": null,
   "id": "d99bf0ec",
   "metadata": {},
   "outputs": [],
   "source": []
  }
 ],
 "metadata": {
  "kernelspec": {
   "display_name": "Python 3 (ipykernel)",
   "language": "python",
   "name": "python3"
  },
  "language_info": {
   "codemirror_mode": {
    "name": "ipython",
    "version": 3
   },
   "file_extension": ".py",
   "mimetype": "text/x-python",
   "name": "python",
   "nbconvert_exporter": "python",
   "pygments_lexer": "ipython3",
   "version": "3.10.9"
  }
 },
 "nbformat": 4,
 "nbformat_minor": 5
}
